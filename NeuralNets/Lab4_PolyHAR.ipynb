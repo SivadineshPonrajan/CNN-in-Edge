{
 "cells": [
  {
   "cell_type": "markdown",
   "metadata": {},
   "source": [
    "# Lab 4: PolyHAR CNN"
   ]
  },
  {
   "cell_type": "markdown",
   "metadata": {},
   "source": [
    "## Imports"
   ]
  },
  {
   "cell_type": "code",
   "execution_count": 1,
   "metadata": {},
   "outputs": [],
   "source": [
    "import copy\n",
    "from pathlib import Path\n",
    "import numpy as np\n",
    "import tensorflow as tf\n",
    "\n",
    "\n",
    "from tensorflow.keras import Sequential\n",
    "from tensorflow.keras.layers import Input, Conv1D, MaxPool1D, Flatten, Dense, Activation, Lambda\n",
    "from tensorflow.keras.utils import to_categorical"
   ]
  },
  {
   "cell_type": "markdown",
   "metadata": {},
   "source": [
    "## Load PolyHAR dataset (EllcieHAR format)"
   ]
  },
  {
   "cell_type": "code",
   "execution_count": 2,
   "metadata": {},
   "outputs": [],
   "source": [
    "x_full = []\n",
    "y_full = []\n",
    "with open('dataSplit/UCA-Data.csv') as f:\n",
    "    next(f) # Skip header\n",
    "    for l in f:\n",
    "        d = l.split(';')\n",
    "        x_full.append([float(d[1]), float(d[2]), float(d[3])]) # Store 3-axis accelerometer adata\n",
    "        y_full.append(1 if 'Positive' in d[4] else 0) # Store positive labels\n",
    "\n",
    "x_full = np.array(x_full)\n",
    "y_full = np.array(y_full)"
   ]
  },
  {
   "cell_type": "markdown",
   "metadata": {
    "tags": []
   },
   "source": [
    "## Windowing"
   ]
  },
  {
   "cell_type": "code",
   "execution_count": 3,
   "metadata": {},
   "outputs": [],
   "source": [
    "SIZE = 32\n",
    "CLASSES = 2\n",
    "windowscount = np.ceil(x_full.shape[0]/SIZE).astype(int)\n",
    "x_full = np.resize(x_full, (windowscount, SIZE, x_full.shape[-1]))\n",
    "y_full = np.resize(y_full, (windowscount, SIZE))\n",
    "y_full = np.array([np.bincount(w).argmax() for w in y_full]) # Select label with highest number of occurence for each window\n",
    "y_full = to_categorical(y_full, num_classes=CLASSES) # Convert back to one-hot encoding"
   ]
  },
  {
   "cell_type": "markdown",
   "metadata": {},
   "source": [
    "## Train/test split"
   ]
  },
  {
   "cell_type": "code",
   "execution_count": 4,
   "metadata": {},
   "outputs": [],
   "source": [
    "RATIO = 0.2 # 20% test, 80% train\n",
    "n = int(len(x_full) * RATIO)\n",
    "\n",
    "# Randomize windows\n",
    "p = np.random.permutation(len(x_full))\n",
    "x_full = x_full[p]\n",
    "y_full = y_full[p]\n",
    "\n",
    "x_test = x_full[-n:]\n",
    "y_test = y_full[-n:]\n",
    "\n",
    "x_train = x_full[:-len(x_test)]\n",
    "y_train = y_full[:-len(y_test)]"
   ]
  },
  {
   "cell_type": "markdown",
   "metadata": {},
   "source": [
    "## Export pre-processed dataset"
   ]
  },
  {
   "cell_type": "code",
   "execution_count": 5,
   "metadata": {},
   "outputs": [],
   "source": [
    "np.savetxt('x_train_polyhar.csv', x_train.reshape((x_train.shape[0], -1)), delimiter=',', fmt='%s')\n",
    "np.savetxt('y_train_polyhar.csv', y_train, delimiter=',', fmt='%s')\n",
    "np.savetxt('x_test_polyhar.csv', x_test.reshape((x_test.shape[0], -1)), delimiter=',', fmt='%s')\n",
    "np.savetxt('y_test_polyhar.csv', y_test, delimiter=',', fmt='%s')"
   ]
  },
  {
   "cell_type": "markdown",
   "metadata": {},
   "source": [
    "## Build model"
   ]
  },
  {
   "cell_type": "code",
   "execution_count": 6,
   "metadata": {},
   "outputs": [
    {
     "name": "stdout",
     "output_type": "stream",
     "text": [
      "Model: \"sequential\"\n",
      "_________________________________________________________________\n",
      " Layer (type)                Output Shape              Param #   \n",
      "=================================================================\n",
      " conv1d (Conv1D)             (None, 30, 10)            100       \n",
      "                                                                 \n",
      " max_pooling1d (MaxPooling1D  (None, 5, 10)            0         \n",
      " )                                                               \n",
      "                                                                 \n",
      " flatten (Flatten)           (None, 50)                0         \n",
      "                                                                 \n",
      " dense (Dense)               (None, 6)                 306       \n",
      "                                                                 \n",
      " dense_1 (Dense)             (None, 2)                 14        \n",
      "                                                                 \n",
      " activation (Activation)     (None, 2)                 0         \n",
      "                                                                 \n",
      "=================================================================\n",
      "Total params: 420\n",
      "Trainable params: 420\n",
      "Non-trainable params: 0\n",
      "_________________________________________________________________\n"
     ]
    }
   ],
   "source": [
    "model = Sequential()\n",
    "model.add(Input(shape=(SIZE, 3)))\n",
    "model.add(Conv1D(filters=10, kernel_size=3, activation='relu'))\n",
    "model.add(MaxPool1D(pool_size=6))\n",
    "model.add(Flatten())\n",
    "model.add(Dense(units=6))\n",
    "model.add(Dense(units=CLASSES))\n",
    "model.add(Activation('softmax'))\n",
    "opt = tf.keras.optimizers.Adam(learning_rate=9e-4)\n",
    "model.summary()\n",
    "model.compile(optimizer=opt, loss='categorical_crossentropy', metrics=['categorical_accuracy'])"
   ]
  },
  {
   "cell_type": "markdown",
   "metadata": {},
   "source": [
    "## Train model"
   ]
  },
  {
   "cell_type": "code",
   "execution_count": 7,
   "metadata": {},
   "outputs": [
    {
     "name": "stdout",
     "output_type": "stream",
     "text": [
      "Epoch 1/50\n",
      "5/5 [==============================] - 1s 51ms/step - loss: 0.6567 - categorical_accuracy: 0.5166 - val_loss: 0.5930 - val_categorical_accuracy: 0.7838\n",
      "Epoch 2/50\n",
      "5/5 [==============================] - 0s 10ms/step - loss: 0.6418 - categorical_accuracy: 0.5497 - val_loss: 0.5819 - val_categorical_accuracy: 0.8108\n",
      "Epoch 3/50\n",
      "5/5 [==============================] - 0s 11ms/step - loss: 0.6281 - categorical_accuracy: 0.6291 - val_loss: 0.5709 - val_categorical_accuracy: 0.8378\n",
      "Epoch 4/50\n",
      "5/5 [==============================] - 0s 9ms/step - loss: 0.6146 - categorical_accuracy: 0.6821 - val_loss: 0.5590 - val_categorical_accuracy: 0.8378\n",
      "Epoch 5/50\n",
      "5/5 [==============================] - 0s 9ms/step - loss: 0.6012 - categorical_accuracy: 0.7020 - val_loss: 0.5486 - val_categorical_accuracy: 0.8378\n",
      "Epoch 6/50\n",
      "5/5 [==============================] - 0s 11ms/step - loss: 0.5879 - categorical_accuracy: 0.7417 - val_loss: 0.5372 - val_categorical_accuracy: 0.8649\n",
      "Epoch 7/50\n",
      "5/5 [==============================] - 0s 9ms/step - loss: 0.5746 - categorical_accuracy: 0.7550 - val_loss: 0.5251 - val_categorical_accuracy: 0.8649\n",
      "Epoch 8/50\n",
      "5/5 [==============================] - 0s 10ms/step - loss: 0.5621 - categorical_accuracy: 0.7881 - val_loss: 0.5137 - val_categorical_accuracy: 0.8649\n",
      "Epoch 9/50\n",
      "5/5 [==============================] - 0s 10ms/step - loss: 0.5473 - categorical_accuracy: 0.7881 - val_loss: 0.5003 - val_categorical_accuracy: 0.8649\n",
      "Epoch 10/50\n",
      "5/5 [==============================] - 0s 9ms/step - loss: 0.5336 - categorical_accuracy: 0.7881 - val_loss: 0.4851 - val_categorical_accuracy: 0.8919\n",
      "Epoch 11/50\n",
      "5/5 [==============================] - 0s 10ms/step - loss: 0.5189 - categorical_accuracy: 0.8013 - val_loss: 0.4704 - val_categorical_accuracy: 0.8919\n",
      "Epoch 12/50\n",
      "5/5 [==============================] - 0s 9ms/step - loss: 0.5039 - categorical_accuracy: 0.8411 - val_loss: 0.4552 - val_categorical_accuracy: 0.9189\n",
      "Epoch 13/50\n",
      "5/5 [==============================] - 0s 10ms/step - loss: 0.4887 - categorical_accuracy: 0.8742 - val_loss: 0.4418 - val_categorical_accuracy: 0.9189\n",
      "Epoch 14/50\n",
      "5/5 [==============================] - 0s 9ms/step - loss: 0.4712 - categorical_accuracy: 0.8940 - val_loss: 0.4250 - val_categorical_accuracy: 0.9189\n",
      "Epoch 15/50\n",
      "5/5 [==============================] - 0s 11ms/step - loss: 0.4549 - categorical_accuracy: 0.9007 - val_loss: 0.4084 - val_categorical_accuracy: 0.9189\n",
      "Epoch 16/50\n",
      "5/5 [==============================] - 0s 10ms/step - loss: 0.4369 - categorical_accuracy: 0.9007 - val_loss: 0.3908 - val_categorical_accuracy: 0.9189\n",
      "Epoch 17/50\n",
      "5/5 [==============================] - 0s 9ms/step - loss: 0.4190 - categorical_accuracy: 0.9007 - val_loss: 0.3731 - val_categorical_accuracy: 0.9189\n",
      "Epoch 18/50\n",
      "5/5 [==============================] - 0s 11ms/step - loss: 0.3995 - categorical_accuracy: 0.9073 - val_loss: 0.3560 - val_categorical_accuracy: 0.9189\n",
      "Epoch 19/50\n",
      "5/5 [==============================] - 0s 9ms/step - loss: 0.3812 - categorical_accuracy: 0.9272 - val_loss: 0.3359 - val_categorical_accuracy: 0.9189\n",
      "Epoch 20/50\n",
      "5/5 [==============================] - 0s 9ms/step - loss: 0.3620 - categorical_accuracy: 0.9338 - val_loss: 0.3159 - val_categorical_accuracy: 0.9189\n",
      "Epoch 21/50\n",
      "5/5 [==============================] - 0s 10ms/step - loss: 0.3428 - categorical_accuracy: 0.9338 - val_loss: 0.2976 - val_categorical_accuracy: 0.9189\n",
      "Epoch 22/50\n",
      "5/5 [==============================] - 0s 9ms/step - loss: 0.3233 - categorical_accuracy: 0.9338 - val_loss: 0.2789 - val_categorical_accuracy: 0.9459\n",
      "Epoch 23/50\n",
      "5/5 [==============================] - 0s 10ms/step - loss: 0.3049 - categorical_accuracy: 0.9338 - val_loss: 0.2607 - val_categorical_accuracy: 0.9730\n",
      "Epoch 24/50\n",
      "5/5 [==============================] - 0s 9ms/step - loss: 0.2863 - categorical_accuracy: 0.9404 - val_loss: 0.2438 - val_categorical_accuracy: 0.9730\n",
      "Epoch 25/50\n",
      "5/5 [==============================] - 0s 9ms/step - loss: 0.2696 - categorical_accuracy: 0.9470 - val_loss: 0.2273 - val_categorical_accuracy: 0.9730\n",
      "Epoch 26/50\n",
      "5/5 [==============================] - 0s 9ms/step - loss: 0.2544 - categorical_accuracy: 0.9470 - val_loss: 0.2124 - val_categorical_accuracy: 0.9730\n",
      "Epoch 27/50\n",
      "5/5 [==============================] - 0s 9ms/step - loss: 0.2397 - categorical_accuracy: 0.9470 - val_loss: 0.1992 - val_categorical_accuracy: 0.9730\n",
      "Epoch 28/50\n",
      "5/5 [==============================] - 0s 9ms/step - loss: 0.2270 - categorical_accuracy: 0.9536 - val_loss: 0.1869 - val_categorical_accuracy: 0.9730\n",
      "Epoch 29/50\n",
      "5/5 [==============================] - 0s 10ms/step - loss: 0.2147 - categorical_accuracy: 0.9536 - val_loss: 0.1771 - val_categorical_accuracy: 0.9730\n",
      "Epoch 30/50\n",
      "5/5 [==============================] - 0s 9ms/step - loss: 0.2046 - categorical_accuracy: 0.9536 - val_loss: 0.1685 - val_categorical_accuracy: 0.9730\n",
      "Epoch 31/50\n",
      "5/5 [==============================] - 0s 10ms/step - loss: 0.1944 - categorical_accuracy: 0.9536 - val_loss: 0.1575 - val_categorical_accuracy: 0.9730\n",
      "Epoch 32/50\n",
      "5/5 [==============================] - 0s 9ms/step - loss: 0.1857 - categorical_accuracy: 0.9536 - val_loss: 0.1483 - val_categorical_accuracy: 0.9730\n",
      "Epoch 33/50\n",
      "5/5 [==============================] - 0s 10ms/step - loss: 0.1769 - categorical_accuracy: 0.9603 - val_loss: 0.1405 - val_categorical_accuracy: 0.9730\n",
      "Epoch 34/50\n",
      "5/5 [==============================] - 0s 10ms/step - loss: 0.1695 - categorical_accuracy: 0.9669 - val_loss: 0.1349 - val_categorical_accuracy: 0.9730\n",
      "Epoch 35/50\n",
      "5/5 [==============================] - 0s 10ms/step - loss: 0.1622 - categorical_accuracy: 0.9669 - val_loss: 0.1278 - val_categorical_accuracy: 0.9730\n",
      "Epoch 36/50\n",
      "5/5 [==============================] - 0s 10ms/step - loss: 0.1555 - categorical_accuracy: 0.9669 - val_loss: 0.1220 - val_categorical_accuracy: 0.9730\n",
      "Epoch 37/50\n",
      "5/5 [==============================] - 0s 10ms/step - loss: 0.1493 - categorical_accuracy: 0.9669 - val_loss: 0.1165 - val_categorical_accuracy: 1.0000\n",
      "Epoch 38/50\n",
      "5/5 [==============================] - 0s 11ms/step - loss: 0.1432 - categorical_accuracy: 0.9735 - val_loss: 0.1105 - val_categorical_accuracy: 1.0000\n",
      "Epoch 39/50\n",
      "5/5 [==============================] - 0s 9ms/step - loss: 0.1379 - categorical_accuracy: 0.9735 - val_loss: 0.1063 - val_categorical_accuracy: 1.0000\n",
      "Epoch 40/50\n",
      "5/5 [==============================] - 0s 9ms/step - loss: 0.1326 - categorical_accuracy: 0.9735 - val_loss: 0.1007 - val_categorical_accuracy: 1.0000\n",
      "Epoch 41/50\n",
      "5/5 [==============================] - 0s 10ms/step - loss: 0.1282 - categorical_accuracy: 0.9735 - val_loss: 0.0974 - val_categorical_accuracy: 1.0000\n",
      "Epoch 42/50\n",
      "5/5 [==============================] - 0s 10ms/step - loss: 0.1228 - categorical_accuracy: 0.9735 - val_loss: 0.0934 - val_categorical_accuracy: 1.0000\n",
      "Epoch 43/50\n",
      "5/5 [==============================] - 0s 10ms/step - loss: 0.1184 - categorical_accuracy: 0.9735 - val_loss: 0.0908 - val_categorical_accuracy: 1.0000\n",
      "Epoch 44/50\n",
      "5/5 [==============================] - 0s 11ms/step - loss: 0.1141 - categorical_accuracy: 0.9735 - val_loss: 0.0884 - val_categorical_accuracy: 1.0000\n",
      "Epoch 45/50\n",
      "5/5 [==============================] - 0s 9ms/step - loss: 0.1102 - categorical_accuracy: 0.9735 - val_loss: 0.0861 - val_categorical_accuracy: 1.0000\n",
      "Epoch 46/50\n",
      "5/5 [==============================] - 0s 16ms/step - loss: 0.1066 - categorical_accuracy: 0.9735 - val_loss: 0.0837 - val_categorical_accuracy: 1.0000\n",
      "Epoch 47/50\n",
      "5/5 [==============================] - 0s 18ms/step - loss: 0.1023 - categorical_accuracy: 0.9735 - val_loss: 0.0794 - val_categorical_accuracy: 1.0000\n",
      "Epoch 48/50\n",
      "5/5 [==============================] - 0s 9ms/step - loss: 0.0988 - categorical_accuracy: 0.9735 - val_loss: 0.0765 - val_categorical_accuracy: 1.0000\n",
      "Epoch 49/50\n",
      "5/5 [==============================] - 0s 9ms/step - loss: 0.0952 - categorical_accuracy: 0.9801 - val_loss: 0.0733 - val_categorical_accuracy: 1.0000\n",
      "Epoch 50/50\n",
      "5/5 [==============================] - 0s 9ms/step - loss: 0.0920 - categorical_accuracy: 0.9801 - val_loss: 0.0701 - val_categorical_accuracy: 1.0000\n"
     ]
    }
   ],
   "source": [
    "history = model.fit(x_train, y_train, epochs=50, validation_data=(x_test, y_test))"
   ]
  },
  {
   "cell_type": "markdown",
   "metadata": {},
   "source": [
    "## Evaluate model on test dataset"
   ]
  },
  {
   "cell_type": "code",
   "execution_count": 8,
   "metadata": {},
   "outputs": [
    {
     "name": "stdout",
     "output_type": "stream",
     "text": [
      "2/2 - 0s - loss: 0.0701 - categorical_accuracy: 1.0000 - 28ms/epoch - 14ms/step\n",
      "2/2 [==============================] - 0s 3ms/step\n",
      "tf.Tensor(\n",
      "[[16  0]\n",
      " [ 0 21]], shape=(2, 2), dtype=int32)\n"
     ]
    }
   ],
   "source": [
    "model.evaluate(x_test, y_test, verbose=2)\n",
    "pred_test = model.predict(x_test)\n",
    "print(tf.math.confusion_matrix(y_test.argmax(axis=1), pred_test.argmax(axis=1)))"
   ]
  },
  {
   "cell_type": "code",
   "execution_count": 9,
   "metadata": {},
   "outputs": [
    {
     "data": {
      "image/png": "[encoded data removed]",
      "text/plain": [
       "<Figure size 640x480 with 1 Axes>"
      ]
     },
     "metadata": {},
     "output_type": "display_data"
    }
   ],
   "source": [
    "# print(history.history.keys())\n",
    "\n",
    "from matplotlib import pyplot as plt\n",
    "plt.plot(history.history['categorical_accuracy'])\n",
    "plt.plot(history.history['val_categorical_accuracy'])\n",
    "plt.title('model accuracy')\n",
    "plt.ylabel('accuracy')\n",
    "plt.xlabel('epoch')\n",
    "plt.legend(['train', 'val'], loc='upper left')\n",
    "plt.show()"
   ]
  },
  {
   "cell_type": "markdown",
   "metadata": {},
   "source": [
    "## Save trained model"
   ]
  },
  {
   "cell_type": "code",
   "execution_count": 10,
   "metadata": {},
   "outputs": [],
   "source": [
    "model.save('project.h5')"
   ]
  },
  {
   "cell_type": "code",
   "execution_count": null,
   "metadata": {},
   "outputs": [],
   "source": []
  },
  {
   "cell_type": "markdown",
   "metadata": {},
   "source": [
    "## Remove SoftMax layer"
   ]
  },
  {
   "cell_type": "code",
   "execution_count": 11,
   "metadata": {},
   "outputs": [],
   "source": [
    "model = tf.keras.Model(model.input, model.layers[-2].output, name=model.name)"
   ]
  },
  {
   "cell_type": "code",
   "execution_count": null,
   "metadata": {},
   "outputs": [],
   "source": [
    "# import keras.layers.Lambda as TFOpLambda"
   ]
  },
  {
   "cell_type": "markdown",
   "metadata": {},
   "source": [
    "## Install MicroAI for C inference code generation (kerascnn2c module)"
   ]
  },
  {
   "cell_type": "code",
   "execution_count": 12,
   "metadata": {},
   "outputs": [],
   "source": [
    "# %pip install https://bitbucket.org/edge-team-leat/microai_public/get/6adfbcb347d3.zip#subdirectory=third_party/kerascnn2c_fixed\n",
    "\n",
    "import kerascnn2c"
   ]
  },
  {
   "cell_type": "markdown",
   "metadata": {
    "tags": []
   },
   "source": [
    "## Generate C code for the trained model with 16-bit fixed-point representation"
   ]
  },
  {
   "cell_type": "code",
   "execution_count": 13,
   "metadata": {},
   "outputs": [
    {
     "name": "stdout",
     "output_type": "stream",
     "text": [
      "———————————————————————————————————————————————————————————————————————————————————————————————————————\n",
      "Inputs                           | Layer                            | Outputs                         \n",
      "———————————————————————————————————————————————————————————————————————————————————————————————————————\n",
      "                                 | input_1                          | conv1d                          \n",
      "-------------------------------------------------------------------------------------------------------\n",
      "input_1                          | conv1d                           | max_pooling1d                   \n",
      "-------------------------------------------------------------------------------------------------------\n",
      "conv1d                           | max_pooling1d                    | flatten                         \n",
      "-------------------------------------------------------------------------------------------------------\n",
      "max_pooling1d                    | flatten                          | dense                           \n",
      "-------------------------------------------------------------------------------------------------------\n",
      "flatten                          | dense                            | dense_1                         \n",
      "-------------------------------------------------------------------------------------------------------\n",
      "dense                            | dense_1                          |                                 \n",
      "-------------------------------------------------------------------------------------------------------\n",
      "\n",
      "After optimization:\n",
      "———————————————————————————————————————————————————————————————————————————————————————————————————————\n",
      "Inputs                           | Layer                            | Outputs                         \n",
      "———————————————————————————————————————————————————————————————————————————————————————————————————————\n",
      "                                 | input_1                          | conv1d                          \n",
      "-------------------------------------------------------------------------------------------------------\n",
      "input_1                          | conv1d                           | max_pooling1d                   \n",
      "-------------------------------------------------------------------------------------------------------\n",
      "conv1d                           | max_pooling1d                    | flatten                         \n",
      "-------------------------------------------------------------------------------------------------------\n",
      "max_pooling1d                    | flatten                          | dense                           \n",
      "-------------------------------------------------------------------------------------------------------\n",
      "flatten                          | dense                            | dense_1                         \n",
      "-------------------------------------------------------------------------------------------------------\n",
      "dense                            | dense_1                          |                                 \n",
      "-------------------------------------------------------------------------------------------------------\n",
      "\n"
     ]
    }
   ],
   "source": [
    "res = kerascnn2c.Converter(output_path=Path('polyhar_output_fixed'),\n",
    "                           fixed_point=9, # Number of bits for the fractional part, Q7.9 format\n",
    "                           number_type='int16_t', # Data type for weights/activations (16 bits quantization)\n",
    "                           long_number_type='int32_t', # Data type for intermediate results\n",
    "                           number_min=-(2**15), # Minimum value for 16-bit signed integers\n",
    "                           number_max=(2**15)-1 # Maximum value for 16-bit signed integers\n",
    "                          ).convert_model(copy.deepcopy(model))\n",
    "with open('project_model_fixed.h', 'w') as f:\n",
    "    f.write(res)"
   ]
  },
  {
   "cell_type": "markdown",
   "metadata": {
    "tags": []
   },
   "source": [
    "## Compile the 16-bit fixed-point C code for x86 and evaluate"
   ]
  },
  {
   "cell_type": "code",
   "execution_count": null,
   "metadata": {},
   "outputs": [],
   "source": [
    "!g++ -Wall -Wextra -pedantic -Ofast -o polyhar_fixed -Ipolyhar_output_fixed/ polyhar_output_fixed/model.c main.cpp \n",
    "!./polyhar_fixed x_test_polyhar.csv y_test_polyhar.csv"
   ]
  },
  {
   "cell_type": "markdown",
   "metadata": {},
   "source": [
    "## Generate C code for the trained model with floating-point representation"
   ]
  },
  {
   "cell_type": "code",
   "execution_count": 15,
   "metadata": {},
   "outputs": [
    {
     "name": "stdout",
     "output_type": "stream",
     "text": [
      "———————————————————————————————————————————————————————————————————————————————————————————————————————\n",
      "Inputs                           | Layer                            | Outputs                         \n",
      "———————————————————————————————————————————————————————————————————————————————————————————————————————\n",
      "                                 | input_1                          | conv1d                          \n",
      "-------------------------------------------------------------------------------------------------------\n",
      "input_1                          | conv1d                           | max_pooling1d                   \n",
      "-------------------------------------------------------------------------------------------------------\n",
      "conv1d                           | max_pooling1d                    | flatten                         \n",
      "-------------------------------------------------------------------------------------------------------\n",
      "max_pooling1d                    | flatten                          | dense                           \n",
      "-------------------------------------------------------------------------------------------------------\n",
      "flatten                          | dense                            | dense_1                         \n",
      "-------------------------------------------------------------------------------------------------------\n",
      "dense                            | dense_1                          |                                 \n",
      "-------------------------------------------------------------------------------------------------------\n",
      "\n",
      "After optimization:\n",
      "———————————————————————————————————————————————————————————————————————————————————————————————————————\n",
      "Inputs                           | Layer                            | Outputs                         \n",
      "———————————————————————————————————————————————————————————————————————————————————————————————————————\n",
      "                                 | input_1                          | conv1d                          \n",
      "-------------------------------------------------------------------------------------------------------\n",
      "input_1                          | conv1d                           | max_pooling1d                   \n",
      "-------------------------------------------------------------------------------------------------------\n",
      "conv1d                           | max_pooling1d                    | flatten                         \n",
      "-------------------------------------------------------------------------------------------------------\n",
      "max_pooling1d                    | flatten                          | dense                           \n",
      "-------------------------------------------------------------------------------------------------------\n",
      "flatten                          | dense                            | dense_1                         \n",
      "-------------------------------------------------------------------------------------------------------\n",
      "dense                            | dense_1                          |                                 \n",
      "-------------------------------------------------------------------------------------------------------\n",
      "\n"
     ]
    }
   ],
   "source": [
    "res = kerascnn2c.Converter(output_path=Path('polyhar_output_float'),\n",
    "                           number_type='float',\n",
    "                          ).convert_model(copy.deepcopy(model))\n",
    "\n",
    "with open('project_model_float.h', 'w') as f:\n",
    "    f.write(res)"
   ]
  },
  {
   "cell_type": "markdown",
   "metadata": {},
   "source": [
    "## Compile the floating-point C code for x86 and evaluate"
   ]
  },
  {
   "cell_type": "code",
   "execution_count": null,
   "metadata": {},
   "outputs": [],
   "source": [
    "!g++ -Wall -Wextra -pedantic -Ofast -o polyhar_float -Ipolyhar_output_float/ polyhar_output_float/model.c main.cpp \n",
    "!./polyhar_float x_test_polyhar.csv y_test_polyhar.csv"
   ]
  }
 ],
 "metadata": {
  "kernelspec": {
   "display_name": "Python 3 (ipykernel)",
   "language": "python",
   "name": "python3"
  },
  "language_info": {
   "codemirror_mode": {
    "name": "ipython",
    "version": 3
   },
   "file_extension": ".py",
   "mimetype": "text/x-python",
   "name": "python",
   "nbconvert_exporter": "python",
   "pygments_lexer": "ipython3",
   "version": "3.10.10"
  }
 },
 "nbformat": 4,
 "nbformat_minor": 4
}
